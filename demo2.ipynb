{
 "cells": [
  {
   "cell_type": "code",
   "execution_count": 77,
   "id": "initial_id",
   "metadata": {
    "collapsed": true,
    "ExecuteTime": {
     "end_time": "2024-02-02T09:07:31.915341700Z",
     "start_time": "2024-02-02T09:07:31.405555Z"
    }
   },
   "outputs": [],
   "source": [
    "import numpy as np\n",
    "import pymysql\n",
    "import pandas as pd\n",
    "import matplotlib.pyplot as plt\n",
    "import statsmodels.api as sm\n",
    "\n",
    "\n",
    "from tqdm import tqdm\n",
    "from sklearn.preprocessing import StandardScaler\n",
    "from statsmodels.formula.api import ols"
   ]
  },
  {
   "cell_type": "code",
   "outputs": [
    {
     "data": {
      "text/plain": "       date       code  turnover           vals\n0  20230103  000001.SZ  0.011307  26721949.3586\n1  20230103  000002.SZ  0.006549  21202783.3656\n2  20230103  000006.SZ  0.078999    826196.9682\n3  20230103  000007.SZ  0.032314    279930.0196\n4  20230103  000008.SZ  0.006876    656267.7017",
      "text/html": "<div>\n<style scoped>\n    .dataframe tbody tr th:only-of-type {\n        vertical-align: middle;\n    }\n\n    .dataframe tbody tr th {\n        vertical-align: top;\n    }\n\n    .dataframe thead th {\n        text-align: right;\n    }\n</style>\n<table border=\"1\" class=\"dataframe\">\n  <thead>\n    <tr style=\"text-align: right;\">\n      <th></th>\n      <th>date</th>\n      <th>code</th>\n      <th>turnover</th>\n      <th>vals</th>\n    </tr>\n  </thead>\n  <tbody>\n    <tr>\n      <th>0</th>\n      <td>20230103</td>\n      <td>000001.SZ</td>\n      <td>0.011307</td>\n      <td>26721949.3586</td>\n    </tr>\n    <tr>\n      <th>1</th>\n      <td>20230103</td>\n      <td>000002.SZ</td>\n      <td>0.006549</td>\n      <td>21202783.3656</td>\n    </tr>\n    <tr>\n      <th>2</th>\n      <td>20230103</td>\n      <td>000006.SZ</td>\n      <td>0.078999</td>\n      <td>826196.9682</td>\n    </tr>\n    <tr>\n      <th>3</th>\n      <td>20230103</td>\n      <td>000007.SZ</td>\n      <td>0.032314</td>\n      <td>279930.0196</td>\n    </tr>\n    <tr>\n      <th>4</th>\n      <td>20230103</td>\n      <td>000008.SZ</td>\n      <td>0.006876</td>\n      <td>656267.7017</td>\n    </tr>\n  </tbody>\n</table>\n</div>"
     },
     "execution_count": 12,
     "metadata": {},
     "output_type": "execute_result"
    }
   ],
   "source": [
    "conn = pymysql.connect(\n",
    "    host=\"192.168.7.93\",\n",
    "    user=\"quantchina\",\n",
    "    password=\"zMxq7VNYJljTFIQ8\",\n",
    "    database=\"wind\",\n",
    "    charset=\"gbk\"\n",
    ")\n",
    "# 读取个股的换手率以及市值\n",
    "cursor = conn.cursor()\n",
    "query = \"\"\"\n",
    "    SELECT TRADE_DT, S_INFO_WINDCODE, S_DQ_TURN, S_VAL_MV\n",
    "    FROM ASHAREEODDERIVATIVEINDICATOR\n",
    "    WHERE TRADE_DT in (select TRADE_DT from AINDEXEODPRICES where S_INFO_WINDCODE='000985.CSI' and \n",
    "        TRADE_DT between '20230101' and '20240201') and \n",
    "        S_INFO_WINDCODE in (\n",
    "            SELECT S_CON_WINDCODE\n",
    "            FROM AINDEXCSIALLINDWEIGHT\n",
    "            where TRADE_DT='20230104'\n",
    "            ORDER BY S_CON_WINDCODE\n",
    "    )\n",
    "    ORDER BY TRADE_DT, S_INFO_WINDCODE\n",
    "\"\"\"\n",
    "cursor.execute(query)\n",
    "\n",
    "data = cursor.fetchall()\n",
    "df = pd.DataFrame(data, columns=['date', 'code', 'turnover', 'vals'])\n",
    "df['turnover'] = df['turnover'].astype(float) / 100\n",
    "df.head()"
   ],
   "metadata": {
    "collapsed": false,
    "ExecuteTime": {
     "end_time": "2024-02-02T07:41:48.883313400Z",
     "start_time": "2024-02-02T07:41:10.793755600Z"
    }
   },
   "id": "b3b15767332da071",
   "execution_count": 12
  },
  {
   "cell_type": "code",
   "outputs": [],
   "source": [
    "# 读取个股的行业信息\n",
    "query = \"\"\"\n",
    "    SELECT WIND_CODE, WIND_IND_CODE\n",
    "    FROM ASHAREINDUSTRIESCLASS\n",
    "    WHERE CUR_SIGN=1 and WIND_CODE in (\n",
    "        SELECT S_CON_WINDCODE\n",
    "        FROM AINDEXCSIALLINDWEIGHT\n",
    "        where TRADE_DT='20230104'\n",
    "    )\n",
    "    ORDER BY WIND_CODE\n",
    "\"\"\"\n",
    "cursor.execute(query)\n",
    "\n",
    "ind_data = cursor.fetchall()\n",
    "ind = pd.DataFrame(ind_data, columns=['code', 'industry'])\n",
    "ind.set_index('code', inplace=True)\n",
    "for i in range(len(ind)):\n",
    "    ind.iloc[i, 0] = (ind.iloc[i, 0])[:4]"
   ],
   "metadata": {
    "collapsed": false,
    "ExecuteTime": {
     "end_time": "2024-02-02T08:06:00.489361300Z",
     "start_time": "2024-02-02T08:05:59.845558500Z"
    }
   },
   "id": "50ae3f0817e67adc",
   "execution_count": 45
  },
  {
   "cell_type": "code",
   "outputs": [],
   "source": [
    "# 读取个股的收益率数据\n",
    "query = \"\"\"\n",
    "    SELECT TRADE_DT, S_INFO_WINDCODE, S_DQ_PCTCHANGE\n",
    "    FROM ASHAREEODPRICES    \n",
    "    WHERE S_INFO_WINDCODE in (\n",
    "        SELECT S_CON_WINDCODE\n",
    "        FROM AINDEXCSIALLINDWEIGHT\n",
    "        WHERE TRADE_DT='20230104'\n",
    "    ) and TRADE_DT between '20230101' and '20240201'\n",
    "    ORDER BY TRADE_DT, S_INFO_WINDCODE \n",
    "\"\"\"\n",
    "cursor.execute(query)\n",
    "data = cursor.fetchall()"
   ],
   "metadata": {
    "collapsed": false,
    "ExecuteTime": {
     "end_time": "2024-02-02T10:45:35.022461500Z",
     "start_time": "2024-02-02T10:44:29.655282500Z"
    }
   },
   "id": "f30210ef25a09ab4",
   "execution_count": 140
  },
  {
   "cell_type": "code",
   "outputs": [],
   "source": [
    "returns = pd.DataFrame(data, columns=['date', 'code', 'pct_change'])\n",
    "returns['pct_change'] = returns['pct_change'].astype(float) / 100"
   ],
   "metadata": {
    "collapsed": false,
    "ExecuteTime": {
     "end_time": "2024-02-02T10:48:44.321539500Z",
     "start_time": "2024-02-02T10:48:43.444513200Z"
    }
   },
   "id": "40c9bd20e7e43d6e",
   "execution_count": 141
  },
  {
   "cell_type": "code",
   "outputs": [
    {
     "data": {
      "text/plain": "0          0.046353\n1          0.001648\n2         -0.028571\n3          0.038560\n4          0.026087\n             ...   \n1190859   -0.013263\n1190860   -0.033898\n1190861   -0.010940\n1190862   -0.014091\n1190863    0.023993\nName: pct_change, Length: 1190864, dtype: float64"
     },
     "execution_count": 145,
     "metadata": {},
     "output_type": "execute_result"
    }
   ],
   "source": [
    "returns['pct_change']"
   ],
   "metadata": {
    "collapsed": false,
    "ExecuteTime": {
     "end_time": "2024-02-02T10:50:45.309443Z",
     "start_time": "2024-02-02T10:50:45.302393700Z"
    }
   },
   "id": "18a00a76d5ddf06e",
   "execution_count": 145
  },
  {
   "cell_type": "code",
   "outputs": [],
   "source": [
    "merge = pd.concat([df, returns['pct_change']], axis=1)\n",
    "merge.dropna(inplace=True)"
   ],
   "metadata": {
    "collapsed": false,
    "ExecuteTime": {
     "end_time": "2024-02-02T10:53:47.737269700Z",
     "start_time": "2024-02-02T10:53:46.289806400Z"
    }
   },
   "id": "82a6b81a925a564f",
   "execution_count": 147
  },
  {
   "cell_type": "code",
   "outputs": [
    {
     "data": {
      "text/plain": "(1190864, 5)"
     },
     "execution_count": 154,
     "metadata": {},
     "output_type": "execute_result"
    }
   ],
   "source": [
    "merge.shape"
   ],
   "metadata": {
    "collapsed": false,
    "ExecuteTime": {
     "end_time": "2024-02-02T11:02:58.830510700Z",
     "start_time": "2024-02-02T11:02:58.786082800Z"
    }
   },
   "id": "d13033b1dda08e0d",
   "execution_count": 154
  },
  {
   "cell_type": "code",
   "outputs": [
    {
     "name": "stderr",
     "output_type": "stream",
     "text": [
      "Processing: 100%|██████████| 265/265 [00:54<00:00,  4.88it/s]\n"
     ]
    }
   ],
   "source": [
    "factor_r = []\n",
    "for date in tqdm(df.date.unique(), desc=\"Processing\"):\n",
    "    scaler = StandardScaler()\n",
    "    \n",
    "    df_ols = (merge[merge.date==date]).iloc[:, 1:]\n",
    "    df_ols.set_index('code', inplace=True)\n",
    "    df_ols = pd.merge(df_ols, ind, left_index=True, right_index=True, how='inner')\n",
    "    df_ols.vals = scaler.fit_transform(df_ols.vals.to_numpy().reshape(-1, 1))\n",
    "    \n",
    "    dummies = pd.get_dummies(df_ols.industry)\n",
    "    dummies.drop(['6260'], axis=1, inplace=True)\n",
    "    df_dummies = pd.concat([df_ols, dummies], axis=1)\n",
    "    y = df_dummies.turnover.to_numpy()\n",
    "    X = sm.add_constant(df_dummies.drop(['turnover', 'industry', 'pct_change'], axis=1).to_numpy())\n",
    "    results = sm.OLS(y, X).fit()\n",
    "    resid = results.resid\n",
    "    \n",
    "    # 收益率对中性化后的换手率因子回归\n",
    "    r = df_dummies['pct_change'].to_numpy()\n",
    "    res = sm.OLS(r, resid).fit()\n",
    "    factor_r.append(res.params[0])\n",
    "    \n",
    "    factor = resid.sort()\n",
    "    "
   ],
   "metadata": {
    "collapsed": false,
    "ExecuteTime": {
     "end_time": "2024-02-02T11:27:21.256994200Z",
     "start_time": "2024-02-02T11:26:26.899323300Z"
    }
   },
   "id": "b5f69a1f2e37d099",
   "execution_count": 174
  },
  {
   "cell_type": "code",
   "outputs": [],
   "source": [
    "factor = res"
   ],
   "metadata": {
    "collapsed": false
   },
   "id": "b9d10f16ed4b6153"
  },
  {
   "cell_type": "code",
   "outputs": [
    {
     "data": {
      "text/plain": "array([1, 2, 3, 4, 5])"
     },
     "execution_count": 175,
     "metadata": {},
     "output_type": "execute_result"
    }
   ],
   "source": [
    "aa = np.array([5, 3, 2, 1, 4])\n",
    "aa.sort()\n",
    "aa"
   ],
   "metadata": {
    "collapsed": false,
    "ExecuteTime": {
     "end_time": "2024-02-02T11:36:09.289003Z",
     "start_time": "2024-02-02T11:36:09.239017800Z"
    }
   },
   "id": "bc3a00e356e52450",
   "execution_count": 175
  },
  {
   "cell_type": "code",
   "outputs": [
    {
     "data": {
      "text/plain": "industry    6220\nName: 002013.SZ, dtype: object"
     },
     "execution_count": 120,
     "metadata": {},
     "output_type": "execute_result"
    }
   ],
   "source": [
    "ind.loc['002013.SZ', ]"
   ],
   "metadata": {
    "collapsed": false,
    "ExecuteTime": {
     "end_time": "2024-02-02T10:19:49.604557600Z",
     "start_time": "2024-02-02T10:19:49.593157600Z"
    }
   },
   "id": "6a693367b23be781",
   "execution_count": 120
  },
  {
   "cell_type": "markdown",
   "source": [],
   "metadata": {
    "collapsed": false
   },
   "id": "2439a258a5d25252"
  },
  {
   "cell_type": "code",
   "outputs": [
    {
     "data": {
      "text/plain": "array([ 0.00912345, -0.0058865 ,  0.05959178, ..., -0.00164247,\n       -0.0138255 , -0.02295757])"
     },
     "execution_count": 163,
     "metadata": {},
     "output_type": "execute_result"
    }
   ],
   "source": [
    "resid"
   ],
   "metadata": {
    "collapsed": false,
    "ExecuteTime": {
     "end_time": "2024-02-02T11:16:25.161564800Z",
     "start_time": "2024-02-02T11:16:25.137129300Z"
    }
   },
   "id": "e9bb3e48e5929b46",
   "execution_count": 163
  },
  {
   "cell_type": "code",
   "outputs": [
    {
     "data": {
      "text/plain": "code\n000001.SZ    0.046353\n000002.SZ    0.001648\n000006.SZ   -0.028571\n000007.SZ    0.038560\n000008.SZ    0.026087\n               ...   \n688799.SH    0.099277\n688800.SH    0.012373\n688819.SH    0.027490\n688981.SH    0.009723\n689009.SH    0.004264\nName: pct_change, Length: 4500, dtype: float64"
     },
     "execution_count": 169,
     "metadata": {},
     "output_type": "execute_result"
    }
   ],
   "source": [
    "df_dummies['pct_change']"
   ],
   "metadata": {
    "collapsed": false,
    "ExecuteTime": {
     "end_time": "2024-02-02T11:24:14.308329800Z",
     "start_time": "2024-02-02T11:24:14.300329800Z"
    }
   },
   "id": "6d2e6d2c8639c1ac",
   "execution_count": 169
  },
  {
   "cell_type": "code",
   "outputs": [
    {
     "ename": "AttributeError",
     "evalue": "'function' object has no attribute 'to_numpy'",
     "output_type": "error",
     "traceback": [
      "\u001B[0;31m---------------------------------------------------------------------------\u001B[0m",
      "\u001B[0;31mAttributeError\u001B[0m                            Traceback (most recent call last)",
      "\u001B[0;32m/tmp/ipykernel_42132/612636140.py\u001B[0m in \u001B[0;36m<module>\u001B[0;34m\u001B[0m\n\u001B[0;32m----> 1\u001B[0;31m \u001B[0mr\u001B[0m \u001B[0;34m=\u001B[0m \u001B[0mdf_dummies\u001B[0m\u001B[0;34m.\u001B[0m\u001B[0mpct_change\u001B[0m\u001B[0;34m.\u001B[0m\u001B[0mto_numpy\u001B[0m\u001B[0;34m(\u001B[0m\u001B[0;34m)\u001B[0m\u001B[0;34m\u001B[0m\u001B[0;34m\u001B[0m\u001B[0m\n\u001B[0m\u001B[1;32m      2\u001B[0m \u001B[0mr\u001B[0m\u001B[0;34m\u001B[0m\u001B[0;34m\u001B[0m\u001B[0m\n",
      "\u001B[0;31mAttributeError\u001B[0m: 'function' object has no attribute 'to_numpy'"
     ]
    }
   ],
   "source": [
    "r = df_dummies.pct_change.to_numpy()\n",
    "r"
   ],
   "metadata": {
    "collapsed": false,
    "ExecuteTime": {
     "end_time": "2024-02-02T11:23:31.254014900Z",
     "start_time": "2024-02-02T11:23:31.240076500Z"
    }
   },
   "id": "dc1edfb2b4034ed7",
   "execution_count": 166
  },
  {
   "cell_type": "code",
   "outputs": [
    {
     "data": {
      "text/plain": "           turnover      vals industry\ncode                                  \n688788.SH  0.011402 -0.188695     6245\n688789.SH  0.010674 -0.062648     6220\n688793.SH  0.014465 -0.208753     6235\n688798.SH  0.010330 -0.006576     6245\n688799.SH  0.014669 -0.206483     6235\n688800.SH  0.025322 -0.131052     6245\n688819.SH  0.015176  0.160270     6220\n688981.SH  0.071590  4.979680     6245\n689009.SH  0.007315  0.043948     6225\n002013.SZ       NaN       NaN     6220",
      "text/html": "<div>\n<style scoped>\n    .dataframe tbody tr th:only-of-type {\n        vertical-align: middle;\n    }\n\n    .dataframe tbody tr th {\n        vertical-align: top;\n    }\n\n    .dataframe thead th {\n        text-align: right;\n    }\n</style>\n<table border=\"1\" class=\"dataframe\">\n  <thead>\n    <tr style=\"text-align: right;\">\n      <th></th>\n      <th>turnover</th>\n      <th>vals</th>\n      <th>industry</th>\n    </tr>\n    <tr>\n      <th>code</th>\n      <th></th>\n      <th></th>\n      <th></th>\n    </tr>\n  </thead>\n  <tbody>\n    <tr>\n      <th>688788.SH</th>\n      <td>0.011402</td>\n      <td>-0.188695</td>\n      <td>6245</td>\n    </tr>\n    <tr>\n      <th>688789.SH</th>\n      <td>0.010674</td>\n      <td>-0.062648</td>\n      <td>6220</td>\n    </tr>\n    <tr>\n      <th>688793.SH</th>\n      <td>0.014465</td>\n      <td>-0.208753</td>\n      <td>6235</td>\n    </tr>\n    <tr>\n      <th>688798.SH</th>\n      <td>0.010330</td>\n      <td>-0.006576</td>\n      <td>6245</td>\n    </tr>\n    <tr>\n      <th>688799.SH</th>\n      <td>0.014669</td>\n      <td>-0.206483</td>\n      <td>6235</td>\n    </tr>\n    <tr>\n      <th>688800.SH</th>\n      <td>0.025322</td>\n      <td>-0.131052</td>\n      <td>6245</td>\n    </tr>\n    <tr>\n      <th>688819.SH</th>\n      <td>0.015176</td>\n      <td>0.160270</td>\n      <td>6220</td>\n    </tr>\n    <tr>\n      <th>688981.SH</th>\n      <td>0.071590</td>\n      <td>4.979680</td>\n      <td>6245</td>\n    </tr>\n    <tr>\n      <th>689009.SH</th>\n      <td>0.007315</td>\n      <td>0.043948</td>\n      <td>6225</td>\n    </tr>\n    <tr>\n      <th>002013.SZ</th>\n      <td>NaN</td>\n      <td>NaN</td>\n      <td>6220</td>\n    </tr>\n  </tbody>\n</table>\n</div>"
     },
     "execution_count": 119,
     "metadata": {},
     "output_type": "execute_result"
    }
   ],
   "source": [
    "df_ols.iloc[4490:, :]"
   ],
   "metadata": {
    "collapsed": false,
    "ExecuteTime": {
     "end_time": "2024-02-02T10:17:03.946349100Z",
     "start_time": "2024-02-02T10:17:03.901820900Z"
    }
   },
   "id": "4fcded029111e064",
   "execution_count": 119
  },
  {
   "cell_type": "code",
   "outputs": [
    {
     "data": {
      "text/plain": "           turnover           vals industry\ncode                                       \n000001.SZ  0.011307  26721949.3586     6240\n000002.SZ  0.006549  21202783.3656     6260\n000006.SZ  0.078999    826196.9682     6260\n000007.SZ  0.032314    279930.0196     6225\n000008.SZ  0.006876    656267.7017     6220",
      "text/html": "<div>\n<style scoped>\n    .dataframe tbody tr th:only-of-type {\n        vertical-align: middle;\n    }\n\n    .dataframe tbody tr th {\n        vertical-align: top;\n    }\n\n    .dataframe thead th {\n        text-align: right;\n    }\n</style>\n<table border=\"1\" class=\"dataframe\">\n  <thead>\n    <tr style=\"text-align: right;\">\n      <th></th>\n      <th>turnover</th>\n      <th>vals</th>\n      <th>industry</th>\n    </tr>\n    <tr>\n      <th>code</th>\n      <th></th>\n      <th></th>\n      <th></th>\n    </tr>\n  </thead>\n  <tbody>\n    <tr>\n      <th>000001.SZ</th>\n      <td>0.011307</td>\n      <td>26721949.3586</td>\n      <td>6240</td>\n    </tr>\n    <tr>\n      <th>000002.SZ</th>\n      <td>0.006549</td>\n      <td>21202783.3656</td>\n      <td>6260</td>\n    </tr>\n    <tr>\n      <th>000006.SZ</th>\n      <td>0.078999</td>\n      <td>826196.9682</td>\n      <td>6260</td>\n    </tr>\n    <tr>\n      <th>000007.SZ</th>\n      <td>0.032314</td>\n      <td>279930.0196</td>\n      <td>6225</td>\n    </tr>\n    <tr>\n      <th>000008.SZ</th>\n      <td>0.006876</td>\n      <td>656267.7017</td>\n      <td>6220</td>\n    </tr>\n  </tbody>\n</table>\n</div>"
     },
     "execution_count": 64,
     "metadata": {},
     "output_type": "execute_result"
    }
   ],
   "source": [
    "dfols = (df[df.date=='20230103']).iloc[:, 1:]\n",
    "dfols.set_index('code', inplace=True)\n",
    "dfols = pd.concat([dfols, ind], axis=1)\n",
    "\n",
    "dfols.head()"
   ],
   "metadata": {
    "collapsed": false,
    "ExecuteTime": {
     "end_time": "2024-02-02T08:26:31.813686Z",
     "start_time": "2024-02-02T08:26:31.803500100Z"
    }
   },
   "id": "72c5c80cd0de5212",
   "execution_count": 64
  },
  {
   "cell_type": "code",
   "outputs": [
    {
     "data": {
      "text/plain": "0       0.011307\n1       0.006549\n2       0.078999\n3       0.032314\n4       0.006876\n          ...   \n4495    0.090426\n4496    0.026200\n4497    0.017400\n4498    0.004524\n4499    0.007394\nName: turnover, Length: 4500, dtype: float64"
     },
     "execution_count": 51,
     "metadata": {},
     "output_type": "execute_result"
    }
   ],
   "source": [
    "df[df.date=='20230103'].turnover"
   ],
   "metadata": {
    "collapsed": false,
    "ExecuteTime": {
     "end_time": "2024-02-02T08:11:47.566998Z",
     "start_time": "2024-02-02T08:11:47.424048200Z"
    }
   },
   "id": "99bff7ba02716eef",
   "execution_count": 51
  },
  {
   "cell_type": "code",
   "outputs": [
    {
     "ename": "ImportError",
     "evalue": "Unable to find a usable engine; tried using: 'pyarrow', 'fastparquet'.\nA suitable version of pyarrow or fastparquet is required for parquet support.\nTrying to import the above resulted in these errors:\n - Missing optional dependency 'pyarrow'. pyarrow is required for parquet support. Use pip or conda to install pyarrow.\n - Missing optional dependency 'fastparquet'. fastparquet is required for parquet support. Use pip or conda to install fastparquet.",
     "output_type": "error",
     "traceback": [
      "\u001B[0;31m---------------------------------------------------------------------------\u001B[0m",
      "\u001B[0;31mImportError\u001B[0m                               Traceback (most recent call last)",
      "\u001B[0;32m/tmp/ipykernel_42132/1008997420.py\u001B[0m in \u001B[0;36m<module>\u001B[0;34m\u001B[0m\n\u001B[0;32m----> 1\u001B[0;31m \u001B[0mpd\u001B[0m\u001B[0;34m.\u001B[0m\u001B[0mread_parquet\u001B[0m\u001B[0;34m(\u001B[0m\u001B[0;34m\"/nas92/factor/stk_000985.CSI_20130101_20240202.parquet\"\u001B[0m\u001B[0;34m)\u001B[0m\u001B[0;34m\u001B[0m\u001B[0;34m\u001B[0m\u001B[0m\n\u001B[0m",
      "\u001B[0;32m~/anaconda3.9/lib/python3.9/site-packages/pandas/io/parquet.py\u001B[0m in \u001B[0;36mread_parquet\u001B[0;34m(path, engine, columns, storage_options, use_nullable_dtypes, **kwargs)\u001B[0m\n\u001B[1;32m    489\u001B[0m     \u001B[0mDataFrame\u001B[0m\u001B[0;34m\u001B[0m\u001B[0;34m\u001B[0m\u001B[0m\n\u001B[1;32m    490\u001B[0m     \"\"\"\n\u001B[0;32m--> 491\u001B[0;31m     \u001B[0mimpl\u001B[0m \u001B[0;34m=\u001B[0m \u001B[0mget_engine\u001B[0m\u001B[0;34m(\u001B[0m\u001B[0mengine\u001B[0m\u001B[0;34m)\u001B[0m\u001B[0;34m\u001B[0m\u001B[0;34m\u001B[0m\u001B[0m\n\u001B[0m\u001B[1;32m    492\u001B[0m \u001B[0;34m\u001B[0m\u001B[0m\n\u001B[1;32m    493\u001B[0m     return impl.read(\n",
      "\u001B[0;32m~/anaconda3.9/lib/python3.9/site-packages/pandas/io/parquet.py\u001B[0m in \u001B[0;36mget_engine\u001B[0;34m(engine)\u001B[0m\n\u001B[1;32m     50\u001B[0m                 \u001B[0merror_msgs\u001B[0m \u001B[0;34m+=\u001B[0m \u001B[0;34m\"\\n - \"\u001B[0m \u001B[0;34m+\u001B[0m \u001B[0mstr\u001B[0m\u001B[0;34m(\u001B[0m\u001B[0merr\u001B[0m\u001B[0;34m)\u001B[0m\u001B[0;34m\u001B[0m\u001B[0;34m\u001B[0m\u001B[0m\n\u001B[1;32m     51\u001B[0m \u001B[0;34m\u001B[0m\u001B[0m\n\u001B[0;32m---> 52\u001B[0;31m         raise ImportError(\n\u001B[0m\u001B[1;32m     53\u001B[0m             \u001B[0;34m\"Unable to find a usable engine; \"\u001B[0m\u001B[0;34m\u001B[0m\u001B[0;34m\u001B[0m\u001B[0m\n\u001B[1;32m     54\u001B[0m             \u001B[0;34m\"tried using: 'pyarrow', 'fastparquet'.\\n\"\u001B[0m\u001B[0;34m\u001B[0m\u001B[0;34m\u001B[0m\u001B[0m\n",
      "\u001B[0;31mImportError\u001B[0m: Unable to find a usable engine; tried using: 'pyarrow', 'fastparquet'.\nA suitable version of pyarrow or fastparquet is required for parquet support.\nTrying to import the above resulted in these errors:\n - Missing optional dependency 'pyarrow'. pyarrow is required for parquet support. Use pip or conda to install pyarrow.\n - Missing optional dependency 'fastparquet'. fastparquet is required for parquet support. Use pip or conda to install fastparquet."
     ]
    }
   ],
   "source": [
    "pd.read_parquet(\"/nas92/factor/stk_000985.CSI_20130101_20240202.parquet\")"
   ],
   "metadata": {
    "collapsed": false,
    "ExecuteTime": {
     "end_time": "2024-02-02T11:10:06.110741800Z",
     "start_time": "2024-02-02T11:10:06.087192600Z"
    }
   },
   "id": "3fbea89d7b398b28",
   "execution_count": 160
  },
  {
   "cell_type": "code",
   "outputs": [],
   "source": [],
   "metadata": {
    "collapsed": false
   },
   "id": "93186ce71a8179c0"
  }
 ],
 "metadata": {
  "kernelspec": {
   "display_name": "Python 3",
   "language": "python",
   "name": "python3"
  },
  "language_info": {
   "codemirror_mode": {
    "name": "ipython",
    "version": 2
   },
   "file_extension": ".py",
   "mimetype": "text/x-python",
   "name": "python",
   "nbconvert_exporter": "python",
   "pygments_lexer": "ipython2",
   "version": "2.7.6"
  }
 },
 "nbformat": 4,
 "nbformat_minor": 5
}
